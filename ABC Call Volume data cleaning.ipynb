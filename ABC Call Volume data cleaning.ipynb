{
 "cells": [
  {
   "cell_type": "code",
   "execution_count": 1,
   "id": "cef03378-169d-42a6-9354-e47d6556e8d1",
   "metadata": {},
   "outputs": [
    {
     "name": "stdout",
     "output_type": "stream",
     "text": [
      "           Agent_Name   Agent_ID Customer_Phone_No  Queue_Time(Secs)  \\\n",
      "0       Executives 42  1000042.0        98502XXXXX                 2   \n",
      "1        Executives 4  1000004.0        80595XXXXX                 0   \n",
      "2       Executives 65  1000065.0        70202XXXXX                 0   \n",
      "3       Executives 55  1000055.0        96104XXXXX                 1   \n",
      "4       Executives 21  1000021.0        82001XXXXX                 0   \n",
      "...               ...        ...               ...               ...   \n",
      "117983   Executives 7  1000007.0        85399XXXXX                62   \n",
      "117984  Executives 36  1000036.0        88397XXXXX                22   \n",
      "117985  Executives 48  1000048.0        70035XXXXX                14   \n",
      "117986  Executives 33  1000033.0        87773XXXXX                26   \n",
      "117987  Executives 58  1000058.0        83800XXXXX                 5   \n",
      "\n",
      "       Date_&_Time  Time Time_Bucket Duration(hh:mm:ss)  Call_Seconds (s)  \\\n",
      "0         1/1/2022   9.0        9_10            0:01:36              96.0   \n",
      "1         1/1/2022   9.0        9_10            0:02:20             140.0   \n",
      "2         1/1/2022   9.0        9_10            0:01:25              85.0   \n",
      "3         1/1/2022   9.0        9_10            0:01:31              91.0   \n",
      "4         1/1/2022   9.0        9_10            0:02:45             165.0   \n",
      "...            ...   ...         ...                ...               ...   \n",
      "117983   1/23/2022  20.0       20_21            0:01:32              92.0   \n",
      "117984   1/23/2022  20.0       20_21            0:01:14              74.0   \n",
      "117985   1/23/2022  20.0       20_21            0:01:48             108.0   \n",
      "117986   1/23/2022  20.0       20_21            0:01:13              73.0   \n",
      "117987   1/23/2022  20.0       20_21            0:01:22              82.0   \n",
      "\n",
      "       Call_Status  Wrapped _By Ringing IVR _Duration  \n",
      "0         answered        Agent     YES       0:00:16  \n",
      "1         answered        Agent     YES       0:00:26  \n",
      "2         answered  AutoWrapped     YES       0:00:16  \n",
      "3         answered        Agent     YES       0:00:25  \n",
      "4         answered        Agent     YES       0:00:23  \n",
      "...            ...          ...     ...           ...  \n",
      "117983    answered        Agent     YES       0:00:42  \n",
      "117984    answered        Agent     YES       0:00:15  \n",
      "117985    answered        Agent     YES       0:00:23  \n",
      "117986    answered        Agent     YES       0:01:05  \n",
      "117987    answered        Agent     YES       0:00:14  \n",
      "\n",
      "[117988 rows x 13 columns]\n"
     ]
    }
   ],
   "source": [
    "import numpy as np\n",
    "import pandas as pd\n",
    "#importing data file\n",
    "df=pd.read_csv(\"C:/Users/Rafi/Downloads/Call_Volume_Trend_Analysis_Project_9.xlsx - Call_Data.csv\")\n",
    "print(df)"
   ]
  },
  {
   "cell_type": "code",
   "execution_count": 2,
   "id": "45d129b4-b37c-45c7-9bd8-d5efe7e03d50",
   "metadata": {},
   "outputs": [
    {
     "name": "stdout",
     "output_type": "stream",
     "text": [
      "Agent_Name            34198\n",
      "Agent_ID              34198\n",
      "Customer_Phone_No         0\n",
      "Queue_Time(Secs)          0\n",
      "Date_&_Time               0\n",
      "Time                      0\n",
      "Time_Bucket               0\n",
      "Duration(hh:mm:ss)        0\n",
      "Call_Seconds (s)          0\n",
      "Call_Status               0\n",
      "Wrapped _By           47877\n",
      "Ringing                   0\n",
      "IVR _Duration             0\n",
      "dtype: int64\n"
     ]
    }
   ],
   "source": [
    "#checking null values\n",
    "print(df.isnull().sum())"
   ]
  },
  {
   "cell_type": "code",
   "execution_count": 3,
   "id": "6f60fb43-f7ec-49c0-9af6-d9c0217b7101",
   "metadata": {},
   "outputs": [
    {
     "name": "stdout",
     "output_type": "stream",
     "text": [
      "       Agent_Name  Agent_ID Customer_Phone_No  Queue_Time(Secs) Date_&_Time  \\\n",
      "40            NaN       NaN        87782XXXXX                16    1/1/2022   \n",
      "42            NaN       NaN        87782XXXXX                16    1/1/2022   \n",
      "285           NaN       NaN        96336XXXXX               120    1/1/2022   \n",
      "312           NaN       NaN        96336XXXXX               120    1/1/2022   \n",
      "4354          NaN       NaN        91779XXXXX               120    1/1/2022   \n",
      "...           ...       ...               ...               ...         ...   \n",
      "108513        NaN       NaN        84090XXXXX               120   1/21/2022   \n",
      "108692        NaN       NaN        90099XXXXX               120   1/21/2022   \n",
      "108714        NaN       NaN        90099XXXXX               120   1/21/2022   \n",
      "114879        NaN       NaN        87621XXXXX               120   1/23/2022   \n",
      "114917        NaN       NaN        87621XXXXX               120   1/23/2022   \n",
      "\n",
      "        Time Time_Bucket Duration(hh:mm:ss)  Call_Seconds (s) Call_Status  \\\n",
      "40       9.0        9_10            0:00:00               0.0     abandon   \n",
      "42       9.0        9_10            0:00:00               0.0     abandon   \n",
      "285      9.0        9_10            0:00:00               0.0     abandon   \n",
      "312      9.0        9_10            0:00:00               0.0     abandon   \n",
      "4354    20.0       20_21            0:00:00               0.0     abandon   \n",
      "...      ...         ...                ...               ...         ...   \n",
      "108513  11.0       11_12            0:00:00               0.0     abandon   \n",
      "108692  11.0       11_12            0:00:00               0.0     abandon   \n",
      "108714  11.0       11_12            0:00:00               0.0     abandon   \n",
      "114879   9.0        9_10            0:00:00               0.0     abandon   \n",
      "114917   9.0        9_10            0:00:00               0.0     abandon   \n",
      "\n",
      "       Wrapped _By Ringing IVR _Duration  \n",
      "40             NaN     YES       0:00:16  \n",
      "42             NaN     YES       0:00:16  \n",
      "285            NaN     YES       0:00:14  \n",
      "312            NaN     YES       0:00:14  \n",
      "4354           NaN     YES       0:00:14  \n",
      "...            ...     ...           ...  \n",
      "108513         NaN     YES       0:00:15  \n",
      "108692         NaN     YES       0:00:14  \n",
      "108714         NaN     YES       0:00:14  \n",
      "114879         NaN     YES       0:00:14  \n",
      "114917         NaN     YES       0:00:14  \n",
      "\n",
      "[1756 rows x 13 columns]\n"
     ]
    }
   ],
   "source": [
    "#checking for duplicate rows\n",
    "duplicate_rows =df[df.duplicated(keep=False)]\n",
    "print(duplicate_rows)"
   ]
  },
  {
   "cell_type": "code",
   "execution_count": 4,
   "id": "93154901-6524-4bad-81f1-14f6df35f544",
   "metadata": {},
   "outputs": [
    {
     "name": "stdout",
     "output_type": "stream",
     "text": [
      "           Agent_Name   Agent_ID Customer_Phone_No  Queue_Time(Secs)  \\\n",
      "0       Executives 42  1000042.0        98502XXXXX                 2   \n",
      "1        Executives 4  1000004.0        80595XXXXX                 0   \n",
      "2       Executives 65  1000065.0        70202XXXXX                 0   \n",
      "3       Executives 55  1000055.0        96104XXXXX                 1   \n",
      "4       Executives 21  1000021.0        82001XXXXX                 0   \n",
      "...               ...        ...               ...               ...   \n",
      "117983   Executives 7  1000007.0        85399XXXXX                62   \n",
      "117984  Executives 36  1000036.0        88397XXXXX                22   \n",
      "117985  Executives 48  1000048.0        70035XXXXX                14   \n",
      "117986  Executives 33  1000033.0        87773XXXXX                26   \n",
      "117987  Executives 58  1000058.0        83800XXXXX                 5   \n",
      "\n",
      "       Date_&_Time  Time Time_Bucket Duration(hh:mm:ss)  Call_Seconds (s)  \\\n",
      "0         1/1/2022   9.0        9_10            0:01:36              96.0   \n",
      "1         1/1/2022   9.0        9_10            0:02:20             140.0   \n",
      "2         1/1/2022   9.0        9_10            0:01:25              85.0   \n",
      "3         1/1/2022   9.0        9_10            0:01:31              91.0   \n",
      "4         1/1/2022   9.0        9_10            0:02:45             165.0   \n",
      "...            ...   ...         ...                ...               ...   \n",
      "117983   1/23/2022  20.0       20_21            0:01:32              92.0   \n",
      "117984   1/23/2022  20.0       20_21            0:01:14              74.0   \n",
      "117985   1/23/2022  20.0       20_21            0:01:48             108.0   \n",
      "117986   1/23/2022  20.0       20_21            0:01:13              73.0   \n",
      "117987   1/23/2022  20.0       20_21            0:01:22              82.0   \n",
      "\n",
      "       Call_Status  Wrapped _By Ringing IVR _Duration  \n",
      "0         answered        Agent     YES       0:00:16  \n",
      "1         answered        Agent     YES       0:00:26  \n",
      "2         answered  AutoWrapped     YES       0:00:16  \n",
      "3         answered        Agent     YES       0:00:25  \n",
      "4         answered        Agent     YES       0:00:23  \n",
      "...            ...          ...     ...           ...  \n",
      "117983    answered        Agent     YES       0:00:42  \n",
      "117984    answered        Agent     YES       0:00:15  \n",
      "117985    answered        Agent     YES       0:00:23  \n",
      "117986    answered        Agent     YES       0:01:05  \n",
      "117987    answered        Agent     YES       0:00:14  \n",
      "\n",
      "[117047 rows x 13 columns]\n"
     ]
    }
   ],
   "source": [
    "#deleting duplicate rows\n",
    "df1=df.drop_duplicates()\n",
    "print(df1)"
   ]
  },
  {
   "cell_type": "code",
   "execution_count": 5,
   "id": "e2287b88-896f-4da5-a4d5-0098b151f0b8",
   "metadata": {},
   "outputs": [
    {
     "name": "stderr",
     "output_type": "stream",
     "text": [
      "C:\\Users\\Rafi\\AppData\\Local\\Temp\\ipykernel_3272\\2769492131.py:3: SettingWithCopyWarning: \n",
      "A value is trying to be set on a copy of a slice from a DataFrame.\n",
      "Try using .loc[row_indexer,col_indexer] = value instead\n",
      "\n",
      "See the caveats in the documentation: https://pandas.pydata.org/pandas-docs/stable/user_guide/indexing.html#returning-a-view-versus-a-copy\n",
      "  df1[\"Agent_Name\"]=df1[\"Agent_Name\"].replace(np.nan,\"UNKNOWN\")\n",
      "C:\\Users\\Rafi\\AppData\\Local\\Temp\\ipykernel_3272\\2769492131.py:4: SettingWithCopyWarning: \n",
      "A value is trying to be set on a copy of a slice from a DataFrame.\n",
      "Try using .loc[row_indexer,col_indexer] = value instead\n",
      "\n",
      "See the caveats in the documentation: https://pandas.pydata.org/pandas-docs/stable/user_guide/indexing.html#returning-a-view-versus-a-copy\n",
      "  df1[\"Agent_ID\"]=df1[\"Agent_ID\"].replace(np.nan,\"UNKNOWN\")\n",
      "C:\\Users\\Rafi\\AppData\\Local\\Temp\\ipykernel_3272\\2769492131.py:6: SettingWithCopyWarning: \n",
      "A value is trying to be set on a copy of a slice from a DataFrame.\n",
      "Try using .loc[row_indexer,col_indexer] = value instead\n",
      "\n",
      "See the caveats in the documentation: https://pandas.pydata.org/pandas-docs/stable/user_guide/indexing.html#returning-a-view-versus-a-copy\n",
      "  df1[\"Wrapped _By\"]=df1[\"Wrapped _By\"].replace(np.nan,df1[\"Wrapped _By\"].mode()[0])\n"
     ]
    }
   ],
   "source": [
    "#here in column \"Agent_Name\" and \"Agent_Id\" their are values i.e. \"#N/A\"\n",
    "#which is considered as null values by python. Hence we replace it with \"UNKNOWN\"\n",
    "df1[\"Agent_Name\"]=df1[\"Agent_Name\"].replace(np.nan,\"UNKNOWN\")\n",
    "df1[\"Agent_ID\"]=df1[\"Agent_ID\"].replace(np.nan,\"UNKNOWN\")\n",
    "#Since \"Wrapped _By\" is a categorical column, we replace null values with columns mode value\n",
    "df1[\"Wrapped _By\"]=df1[\"Wrapped _By\"].replace(np.nan,df1[\"Wrapped _By\"].mode()[0])"
   ]
  },
  {
   "cell_type": "code",
   "execution_count": 6,
   "id": "bf309b4f-74e4-4e04-bdb9-239d8f56ae68",
   "metadata": {},
   "outputs": [
    {
     "name": "stdout",
     "output_type": "stream",
     "text": [
      "Agent_Name            0\n",
      "Agent_ID              0\n",
      "Customer_Phone_No     0\n",
      "Queue_Time(Secs)      0\n",
      "Date_&_Time           0\n",
      "Time                  0\n",
      "Time_Bucket           0\n",
      "Duration(hh:mm:ss)    0\n",
      "Call_Seconds (s)      0\n",
      "Call_Status           0\n",
      "Wrapped _By           0\n",
      "Ringing               0\n",
      "IVR _Duration         0\n",
      "dtype: int64\n"
     ]
    }
   ],
   "source": [
    "#now checking for null values again to ensure no null values are present\n",
    "print(df1.isnull().sum())"
   ]
  },
  {
   "cell_type": "code",
   "execution_count": 7,
   "id": "93dfa3f1-e601-4c6d-82d9-81466fd874f5",
   "metadata": {},
   "outputs": [],
   "source": [
    "#Exporting cleaned Data in Excel (.xlsx) format\n",
    "df1.to_excel(\"C:/Users/Rafi/Downloads/Cleaned Call Volume data.xlsx\")"
   ]
  }
 ],
 "metadata": {
  "kernelspec": {
   "display_name": "Python 3 (ipykernel)",
   "language": "python",
   "name": "python3"
  },
  "language_info": {
   "codemirror_mode": {
    "name": "ipython",
    "version": 3
   },
   "file_extension": ".py",
   "mimetype": "text/x-python",
   "name": "python",
   "nbconvert_exporter": "python",
   "pygments_lexer": "ipython3",
   "version": "3.13.2"
  }
 },
 "nbformat": 4,
 "nbformat_minor": 5
}
